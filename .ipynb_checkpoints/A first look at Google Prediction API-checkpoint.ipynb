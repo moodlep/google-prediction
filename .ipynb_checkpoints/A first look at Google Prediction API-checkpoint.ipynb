{
 "cells": [
  {
   "cell_type": "markdown",
   "metadata": {},
   "source": [
    "# Resources\n",
    "\n",
    "http://cloudacademy.com/blog/google-prediction-api/\n",
    "http://cloudacademy.com/blog/google-vision-api-image-analysis/\n",
    "https://www.youtube.com/watch?v=O3mfuc-syTI\n",
    "\n",
    "Video from IO:\n",
    "https://cloud.google.com/prediction/docs\n",
    "\n"
   ]
  }
 ],
 "metadata": {
  "kernelspec": {
   "display_name": "Python 2",
   "language": "python",
   "name": "python2"
  },
  "language_info": {
   "codemirror_mode": {
    "name": "ipython",
    "version": 2
   },
   "file_extension": ".py",
   "mimetype": "text/x-python",
   "name": "python",
   "nbconvert_exporter": "python",
   "pygments_lexer": "ipython2",
   "version": "2.7.11"
  }
 },
 "nbformat": 4,
 "nbformat_minor": 0
}
