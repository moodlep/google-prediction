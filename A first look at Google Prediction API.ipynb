{
 "cells": [
  {
   "cell_type": "markdown",
   "metadata": {},
   "source": [
    "# Resources\n",
    "\n",
    "http://cloudacademy.com/blog/google-prediction-api/\n",
    "http://cloudacademy.com/blog/google-vision-api-image-analysis/\n",
    "https://www.youtube.com/watch?v=O3mfuc-syTI\n",
    "\n",
    "Video from IO:\n",
    "https://cloud.google.com/prediction/docs\n",
    "\n",
    "# Steps to first test\n",
    "\n",
    "Referencing the first link from cloudacademy - very good reference. \n",
    "\n",
    "* Downloaded data from https://archive.ics.uci.edu/ml/datasets/Human+Activity+Recognition+Using+Smartphones\n",
    "to git_repos folder. \n",
    "\n",
    "* installed google api client for python: \n",
    "pip install --upgrade google-api-python-client\n",
    "\n",
    "It looks like the free version of prediction api allows up to 5MB of trained data per day so I need to split the files: \n",
    "* Cmd below splits the file (60MB) into files of size 1MB. \n",
    "split -b 1m X_train.txt\n",
    "\n",
    "This creates lots of 1MB files labelled xaa, xab, etc. \n",
    "Renaming the first file to x_train1.txt: mv xaa x_train1.txt\n",
    "Next count the number of lines in the file: wc -l x_train1.txt   Result is 116 lines. \n",
    "\n",
    "Ditch the new file and just split off the first 116 lines off both training files using head: \n",
    "\n",
    "head -116 X_train.txt > x_train1.txt\n",
    "head -116 y_train.txt > y_train1.txt\n",
    "\n",
    "So training files are done. Now get the test files - maybe use 1/4 of this record count. \n",
    "head -30 X_test.txt > x_test1.txt\n",
    "head -30 y_test.txt > y_test1.txt\n",
    "\n",
    "Copy this into our repo. \n",
    "\n"
   ]
  }
 ],
 "metadata": {
  "kernelspec": {
   "display_name": "Python 2",
   "language": "python",
   "name": "python2"
  },
  "language_info": {
   "codemirror_mode": {
    "name": "ipython",
    "version": 2
   },
   "file_extension": ".py",
   "mimetype": "text/x-python",
   "name": "python",
   "nbconvert_exporter": "python",
   "pygments_lexer": "ipython2",
   "version": "2.7.11"
  }
 },
 "nbformat": 4,
 "nbformat_minor": 0
}
